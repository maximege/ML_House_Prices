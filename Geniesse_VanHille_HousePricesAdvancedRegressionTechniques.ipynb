{
 "cells": [
  {
   "attachments": {},
   "cell_type": "markdown",
   "metadata": {},
   "source": [
    "# House Prices : Advances Regression Techniques"
   ]
  },
  {
   "attachments": {},
   "cell_type": "markdown",
   "metadata": {},
   "source": [
    "<br>\n",
    "\n",
    "### Problématique du Challenge\n",
    "\n",
    "Ce projet est une compétition de data science, qui consiste à prédire le prix de vente de maisons résidentielles à partir d'un ensemble de 79 variables décrivant chaque aspect des maisons à Ames, Iowa. \n",
    "\n",
    "Le but de la compétition est de prédire le prix de vente de chaque maison à partir de l'ensemble de données fourni. Les prédictions sont évaluées en utilisant la Root Mean Square Error (RMSE) entre le logarithme de la valeur prédite et le logarithme du prix de vente observé. \n",
    "\n",
    "Le jeu de données utilisé dans cette compétition, \"jeu de données Ames Housing\", a été créé par Dean De Cock pour une utilisation dans la Data Science. C'est une alternative élargie au célèbre jeu de données \"Boston Housing\".\n",
    "\n",
    "Les données d'apprentissage sont disponibles dans le fichier \"train.csv\", les données à prédire sont disponibles quant à elle dans le fichier \"test.csv\"\n",
    "\n",
    "Le challenge Kaggle est disponible au lien suivant :\n",
    "[House Prices - Advanced Regression Techniques | Kaggle](https://www.kaggle.com/competitions/house-prices-advanced-regression-techniques/overview)"
   ]
  },
  {
   "attachments": {},
   "cell_type": "markdown",
   "metadata": {},
   "source": [
    "<br>\n",
    "\n",
    "### Notre approche \n",
    "\n",
    "Afin de prédire au mieux le prix des maisons de notre base de données test, voici l'approche que nous allons suivre tout au long de ce notebook :\n",
    "- Préparation de la base de données : Séparation des données train, validation et test\n",
    "- Choix et analyse des variables explicatives de notre modèle\n",
    "- Modèle simple benchmark : Utilisation d'une régression linéaire pénalisée qui nous servira de benchmark pour comparer nos modèles de Machine Learning\n",
    "- Modèle non supervisé : Utilisation d'un ... pour\n",
    "- Modèle supervisé : Utilisation d'un ... \n",
    "- Interprétation de notre modèle à l'aide de ...\n",
    "- Modèle de Deep Learning : Utilisation d'un ...\n",
    "- Comparaison des modèles et interprétation des résultats\n",
    "\n",
    "<br>"
   ]
  },
  {
   "attachments": {},
   "cell_type": "markdown",
   "metadata": {},
   "source": [
    "### Importation des librairies"
   ]
  },
  {
   "cell_type": "code",
   "execution_count": 259,
   "metadata": {},
   "outputs": [],
   "source": [
    "import pandas as pd\n",
    "import numpy as np\n",
    "np.random.seed(42)\n",
    "import matplotlib.pyplot as plt\n",
    "\n",
    "from sklearn.preprocessing import OneHotEncoder\n",
    "from sklearn.linear_model import LinearRegression\n",
    "from sklearn.cluster import KMeans\n",
    "from sklearn.metrics import silhouette_score\n",
    "from sklearn.ensemble import RandomForestRegressor\n",
    "from sklearn.model_selection import GridSearchCV\n",
    "from sklearn.ensemble import GradientBoostingRegressor\n",
    "\n",
    "import warnings\n",
    "warnings.filterwarnings('ignore')"
   ]
  },
  {
   "attachments": {},
   "cell_type": "markdown",
   "metadata": {},
   "source": [
    "### Chargement des données"
   ]
  },
  {
   "cell_type": "code",
   "execution_count": 260,
   "metadata": {},
   "outputs": [
    {
     "name": "stdout",
     "output_type": "stream",
     "text": [
      "Notre base de donnes est composée de 1460 obsevations et 81 colonnes\n"
     ]
    }
   ],
   "source": [
    "train_set = pd.read_csv(\"./train.csv\")\n",
    "test_set = pd.read_csv(\"./test.csv\")\n",
    "\n",
    "print(f\"Notre base de donnes est composée de {train_set.shape[0]} obsevations et {train_set.shape[1]} colonnes\")"
   ]
  },
  {
   "attachments": {},
   "cell_type": "markdown",
   "metadata": {},
   "source": [
    "Regardons les premières observations de notre data"
   ]
  },
  {
   "cell_type": "code",
   "execution_count": 261,
   "metadata": {},
   "outputs": [
    {
     "data": {
      "text/html": [
       "<div>\n",
       "<style scoped>\n",
       "    .dataframe tbody tr th:only-of-type {\n",
       "        vertical-align: middle;\n",
       "    }\n",
       "\n",
       "    .dataframe tbody tr th {\n",
       "        vertical-align: top;\n",
       "    }\n",
       "\n",
       "    .dataframe thead th {\n",
       "        text-align: right;\n",
       "    }\n",
       "</style>\n",
       "<table border=\"1\" class=\"dataframe\">\n",
       "  <thead>\n",
       "    <tr style=\"text-align: right;\">\n",
       "      <th></th>\n",
       "      <th>Id</th>\n",
       "      <th>MSSubClass</th>\n",
       "      <th>MSZoning</th>\n",
       "      <th>LotFrontage</th>\n",
       "      <th>LotArea</th>\n",
       "      <th>Street</th>\n",
       "      <th>Alley</th>\n",
       "      <th>LotShape</th>\n",
       "      <th>LandContour</th>\n",
       "      <th>Utilities</th>\n",
       "      <th>...</th>\n",
       "      <th>PoolArea</th>\n",
       "      <th>PoolQC</th>\n",
       "      <th>Fence</th>\n",
       "      <th>MiscFeature</th>\n",
       "      <th>MiscVal</th>\n",
       "      <th>MoSold</th>\n",
       "      <th>YrSold</th>\n",
       "      <th>SaleType</th>\n",
       "      <th>SaleCondition</th>\n",
       "      <th>SalePrice</th>\n",
       "    </tr>\n",
       "  </thead>\n",
       "  <tbody>\n",
       "    <tr>\n",
       "      <th>0</th>\n",
       "      <td>1</td>\n",
       "      <td>60</td>\n",
       "      <td>RL</td>\n",
       "      <td>65.0</td>\n",
       "      <td>8450</td>\n",
       "      <td>Pave</td>\n",
       "      <td>NaN</td>\n",
       "      <td>Reg</td>\n",
       "      <td>Lvl</td>\n",
       "      <td>AllPub</td>\n",
       "      <td>...</td>\n",
       "      <td>0</td>\n",
       "      <td>NaN</td>\n",
       "      <td>NaN</td>\n",
       "      <td>NaN</td>\n",
       "      <td>0</td>\n",
       "      <td>2</td>\n",
       "      <td>2008</td>\n",
       "      <td>WD</td>\n",
       "      <td>Normal</td>\n",
       "      <td>208500</td>\n",
       "    </tr>\n",
       "    <tr>\n",
       "      <th>1</th>\n",
       "      <td>2</td>\n",
       "      <td>20</td>\n",
       "      <td>RL</td>\n",
       "      <td>80.0</td>\n",
       "      <td>9600</td>\n",
       "      <td>Pave</td>\n",
       "      <td>NaN</td>\n",
       "      <td>Reg</td>\n",
       "      <td>Lvl</td>\n",
       "      <td>AllPub</td>\n",
       "      <td>...</td>\n",
       "      <td>0</td>\n",
       "      <td>NaN</td>\n",
       "      <td>NaN</td>\n",
       "      <td>NaN</td>\n",
       "      <td>0</td>\n",
       "      <td>5</td>\n",
       "      <td>2007</td>\n",
       "      <td>WD</td>\n",
       "      <td>Normal</td>\n",
       "      <td>181500</td>\n",
       "    </tr>\n",
       "    <tr>\n",
       "      <th>2</th>\n",
       "      <td>3</td>\n",
       "      <td>60</td>\n",
       "      <td>RL</td>\n",
       "      <td>68.0</td>\n",
       "      <td>11250</td>\n",
       "      <td>Pave</td>\n",
       "      <td>NaN</td>\n",
       "      <td>IR1</td>\n",
       "      <td>Lvl</td>\n",
       "      <td>AllPub</td>\n",
       "      <td>...</td>\n",
       "      <td>0</td>\n",
       "      <td>NaN</td>\n",
       "      <td>NaN</td>\n",
       "      <td>NaN</td>\n",
       "      <td>0</td>\n",
       "      <td>9</td>\n",
       "      <td>2008</td>\n",
       "      <td>WD</td>\n",
       "      <td>Normal</td>\n",
       "      <td>223500</td>\n",
       "    </tr>\n",
       "    <tr>\n",
       "      <th>3</th>\n",
       "      <td>4</td>\n",
       "      <td>70</td>\n",
       "      <td>RL</td>\n",
       "      <td>60.0</td>\n",
       "      <td>9550</td>\n",
       "      <td>Pave</td>\n",
       "      <td>NaN</td>\n",
       "      <td>IR1</td>\n",
       "      <td>Lvl</td>\n",
       "      <td>AllPub</td>\n",
       "      <td>...</td>\n",
       "      <td>0</td>\n",
       "      <td>NaN</td>\n",
       "      <td>NaN</td>\n",
       "      <td>NaN</td>\n",
       "      <td>0</td>\n",
       "      <td>2</td>\n",
       "      <td>2006</td>\n",
       "      <td>WD</td>\n",
       "      <td>Abnorml</td>\n",
       "      <td>140000</td>\n",
       "    </tr>\n",
       "    <tr>\n",
       "      <th>4</th>\n",
       "      <td>5</td>\n",
       "      <td>60</td>\n",
       "      <td>RL</td>\n",
       "      <td>84.0</td>\n",
       "      <td>14260</td>\n",
       "      <td>Pave</td>\n",
       "      <td>NaN</td>\n",
       "      <td>IR1</td>\n",
       "      <td>Lvl</td>\n",
       "      <td>AllPub</td>\n",
       "      <td>...</td>\n",
       "      <td>0</td>\n",
       "      <td>NaN</td>\n",
       "      <td>NaN</td>\n",
       "      <td>NaN</td>\n",
       "      <td>0</td>\n",
       "      <td>12</td>\n",
       "      <td>2008</td>\n",
       "      <td>WD</td>\n",
       "      <td>Normal</td>\n",
       "      <td>250000</td>\n",
       "    </tr>\n",
       "  </tbody>\n",
       "</table>\n",
       "<p>5 rows × 81 columns</p>\n",
       "</div>"
      ],
      "text/plain": [
       "   Id  MSSubClass MSZoning  LotFrontage  LotArea Street Alley LotShape  \\\n",
       "0   1          60       RL         65.0     8450   Pave   NaN      Reg   \n",
       "1   2          20       RL         80.0     9600   Pave   NaN      Reg   \n",
       "2   3          60       RL         68.0    11250   Pave   NaN      IR1   \n",
       "3   4          70       RL         60.0     9550   Pave   NaN      IR1   \n",
       "4   5          60       RL         84.0    14260   Pave   NaN      IR1   \n",
       "\n",
       "  LandContour Utilities  ... PoolArea PoolQC Fence MiscFeature MiscVal MoSold  \\\n",
       "0         Lvl    AllPub  ...        0    NaN   NaN         NaN       0      2   \n",
       "1         Lvl    AllPub  ...        0    NaN   NaN         NaN       0      5   \n",
       "2         Lvl    AllPub  ...        0    NaN   NaN         NaN       0      9   \n",
       "3         Lvl    AllPub  ...        0    NaN   NaN         NaN       0      2   \n",
       "4         Lvl    AllPub  ...        0    NaN   NaN         NaN       0     12   \n",
       "\n",
       "  YrSold  SaleType  SaleCondition  SalePrice  \n",
       "0   2008        WD         Normal     208500  \n",
       "1   2007        WD         Normal     181500  \n",
       "2   2008        WD         Normal     223500  \n",
       "3   2006        WD        Abnorml     140000  \n",
       "4   2008        WD         Normal     250000  \n",
       "\n",
       "[5 rows x 81 columns]"
      ]
     },
     "execution_count": 261,
     "metadata": {},
     "output_type": "execute_result"
    }
   ],
   "source": [
    "train_set.head(5)"
   ]
  },
  {
   "cell_type": "code",
   "execution_count": 262,
   "metadata": {},
   "outputs": [
    {
     "data": {
      "text/html": [
       "<div>\n",
       "<style scoped>\n",
       "    .dataframe tbody tr th:only-of-type {\n",
       "        vertical-align: middle;\n",
       "    }\n",
       "\n",
       "    .dataframe tbody tr th {\n",
       "        vertical-align: top;\n",
       "    }\n",
       "\n",
       "    .dataframe thead th {\n",
       "        text-align: right;\n",
       "    }\n",
       "</style>\n",
       "<table border=\"1\" class=\"dataframe\">\n",
       "  <thead>\n",
       "    <tr style=\"text-align: right;\">\n",
       "      <th></th>\n",
       "      <th>Id</th>\n",
       "      <th>MSSubClass</th>\n",
       "      <th>MSZoning</th>\n",
       "      <th>LotFrontage</th>\n",
       "      <th>LotArea</th>\n",
       "      <th>Street</th>\n",
       "      <th>Alley</th>\n",
       "      <th>LotShape</th>\n",
       "      <th>LandContour</th>\n",
       "      <th>Utilities</th>\n",
       "      <th>...</th>\n",
       "      <th>ScreenPorch</th>\n",
       "      <th>PoolArea</th>\n",
       "      <th>PoolQC</th>\n",
       "      <th>Fence</th>\n",
       "      <th>MiscFeature</th>\n",
       "      <th>MiscVal</th>\n",
       "      <th>MoSold</th>\n",
       "      <th>YrSold</th>\n",
       "      <th>SaleType</th>\n",
       "      <th>SaleCondition</th>\n",
       "    </tr>\n",
       "  </thead>\n",
       "  <tbody>\n",
       "    <tr>\n",
       "      <th>0</th>\n",
       "      <td>1461</td>\n",
       "      <td>20</td>\n",
       "      <td>RH</td>\n",
       "      <td>80.0</td>\n",
       "      <td>11622</td>\n",
       "      <td>Pave</td>\n",
       "      <td>NaN</td>\n",
       "      <td>Reg</td>\n",
       "      <td>Lvl</td>\n",
       "      <td>AllPub</td>\n",
       "      <td>...</td>\n",
       "      <td>120</td>\n",
       "      <td>0</td>\n",
       "      <td>NaN</td>\n",
       "      <td>MnPrv</td>\n",
       "      <td>NaN</td>\n",
       "      <td>0</td>\n",
       "      <td>6</td>\n",
       "      <td>2010</td>\n",
       "      <td>WD</td>\n",
       "      <td>Normal</td>\n",
       "    </tr>\n",
       "    <tr>\n",
       "      <th>1</th>\n",
       "      <td>1462</td>\n",
       "      <td>20</td>\n",
       "      <td>RL</td>\n",
       "      <td>81.0</td>\n",
       "      <td>14267</td>\n",
       "      <td>Pave</td>\n",
       "      <td>NaN</td>\n",
       "      <td>IR1</td>\n",
       "      <td>Lvl</td>\n",
       "      <td>AllPub</td>\n",
       "      <td>...</td>\n",
       "      <td>0</td>\n",
       "      <td>0</td>\n",
       "      <td>NaN</td>\n",
       "      <td>NaN</td>\n",
       "      <td>Gar2</td>\n",
       "      <td>12500</td>\n",
       "      <td>6</td>\n",
       "      <td>2010</td>\n",
       "      <td>WD</td>\n",
       "      <td>Normal</td>\n",
       "    </tr>\n",
       "    <tr>\n",
       "      <th>2</th>\n",
       "      <td>1463</td>\n",
       "      <td>60</td>\n",
       "      <td>RL</td>\n",
       "      <td>74.0</td>\n",
       "      <td>13830</td>\n",
       "      <td>Pave</td>\n",
       "      <td>NaN</td>\n",
       "      <td>IR1</td>\n",
       "      <td>Lvl</td>\n",
       "      <td>AllPub</td>\n",
       "      <td>...</td>\n",
       "      <td>0</td>\n",
       "      <td>0</td>\n",
       "      <td>NaN</td>\n",
       "      <td>MnPrv</td>\n",
       "      <td>NaN</td>\n",
       "      <td>0</td>\n",
       "      <td>3</td>\n",
       "      <td>2010</td>\n",
       "      <td>WD</td>\n",
       "      <td>Normal</td>\n",
       "    </tr>\n",
       "    <tr>\n",
       "      <th>3</th>\n",
       "      <td>1464</td>\n",
       "      <td>60</td>\n",
       "      <td>RL</td>\n",
       "      <td>78.0</td>\n",
       "      <td>9978</td>\n",
       "      <td>Pave</td>\n",
       "      <td>NaN</td>\n",
       "      <td>IR1</td>\n",
       "      <td>Lvl</td>\n",
       "      <td>AllPub</td>\n",
       "      <td>...</td>\n",
       "      <td>0</td>\n",
       "      <td>0</td>\n",
       "      <td>NaN</td>\n",
       "      <td>NaN</td>\n",
       "      <td>NaN</td>\n",
       "      <td>0</td>\n",
       "      <td>6</td>\n",
       "      <td>2010</td>\n",
       "      <td>WD</td>\n",
       "      <td>Normal</td>\n",
       "    </tr>\n",
       "    <tr>\n",
       "      <th>4</th>\n",
       "      <td>1465</td>\n",
       "      <td>120</td>\n",
       "      <td>RL</td>\n",
       "      <td>43.0</td>\n",
       "      <td>5005</td>\n",
       "      <td>Pave</td>\n",
       "      <td>NaN</td>\n",
       "      <td>IR1</td>\n",
       "      <td>HLS</td>\n",
       "      <td>AllPub</td>\n",
       "      <td>...</td>\n",
       "      <td>144</td>\n",
       "      <td>0</td>\n",
       "      <td>NaN</td>\n",
       "      <td>NaN</td>\n",
       "      <td>NaN</td>\n",
       "      <td>0</td>\n",
       "      <td>1</td>\n",
       "      <td>2010</td>\n",
       "      <td>WD</td>\n",
       "      <td>Normal</td>\n",
       "    </tr>\n",
       "  </tbody>\n",
       "</table>\n",
       "<p>5 rows × 80 columns</p>\n",
       "</div>"
      ],
      "text/plain": [
       "     Id  MSSubClass MSZoning  LotFrontage  LotArea Street Alley LotShape  \\\n",
       "0  1461          20       RH         80.0    11622   Pave   NaN      Reg   \n",
       "1  1462          20       RL         81.0    14267   Pave   NaN      IR1   \n",
       "2  1463          60       RL         74.0    13830   Pave   NaN      IR1   \n",
       "3  1464          60       RL         78.0     9978   Pave   NaN      IR1   \n",
       "4  1465         120       RL         43.0     5005   Pave   NaN      IR1   \n",
       "\n",
       "  LandContour Utilities  ... ScreenPorch PoolArea PoolQC  Fence MiscFeature  \\\n",
       "0         Lvl    AllPub  ...         120        0    NaN  MnPrv         NaN   \n",
       "1         Lvl    AllPub  ...           0        0    NaN    NaN        Gar2   \n",
       "2         Lvl    AllPub  ...           0        0    NaN  MnPrv         NaN   \n",
       "3         Lvl    AllPub  ...           0        0    NaN    NaN         NaN   \n",
       "4         HLS    AllPub  ...         144        0    NaN    NaN         NaN   \n",
       "\n",
       "  MiscVal MoSold  YrSold  SaleType  SaleCondition  \n",
       "0       0      6    2010        WD         Normal  \n",
       "1   12500      6    2010        WD         Normal  \n",
       "2       0      3    2010        WD         Normal  \n",
       "3       0      6    2010        WD         Normal  \n",
       "4       0      1    2010        WD         Normal  \n",
       "\n",
       "[5 rows x 80 columns]"
      ]
     },
     "execution_count": 262,
     "metadata": {},
     "output_type": "execute_result"
    }
   ],
   "source": [
    "test_set.head(5)"
   ]
  },
  {
   "attachments": {},
   "cell_type": "markdown",
   "metadata": {},
   "source": [
    "Nous remarquons que la colonne \"Id\" est inutile dans nos données d'entraînement, nous pouvons donc la retirer de notre étude. Pour les donnée de test, nous allons remplacer l'index de notre dataframe par cette colonne *Id*.\n",
    "\n",
    "De plus, séparons notre variable d'étude **SalePrice** de nos variables explicatives. Nous nous retrouvons alors avec 79 variables explicatives."
   ]
  },
  {
   "cell_type": "code",
   "execution_count": 263,
   "metadata": {},
   "outputs": [],
   "source": [
    "train_set.drop(\"Id\", axis=1, inplace = True)\n",
    "test_set.set_index('Id', inplace=True)\n",
    "\n",
    "y_label = \"SalePrice\"\n",
    "y_train = train_set[y_label]\n",
    "X_train = train_set.drop(y_label, axis=1)\n",
    "\n",
    "X_test = test_set"
   ]
  },
  {
   "attachments": {},
   "cell_type": "markdown",
   "metadata": {},
   "source": [
    "Enfin, divison notre échantillon d'entraînement en un train set et un validation set à l'aide de la fonction suivante :"
   ]
  },
  {
   "cell_type": "code",
   "execution_count": 264,
   "metadata": {},
   "outputs": [],
   "source": [
    "def split_data(X, y, ratio):\n",
    "    n = X.shape[0]\n",
    "    train_index = np.random.choice(n, int(n * ratio), replace=False)\n",
    "    validation_index = np.delete(np.arange(n), train_index)\n",
    "    return X.iloc[train_index], y.loc[train_index], X.loc[validation_index], y.loc[validation_index]"
   ]
  },
  {
   "cell_type": "code",
   "execution_count": 265,
   "metadata": {},
   "outputs": [],
   "source": [
    "X_train, y_train, X_validation, y_validation = split_data(X_train, y_train, 0.7)"
   ]
  },
  {
   "attachments": {},
   "cell_type": "markdown",
   "metadata": {},
   "source": [
    "Pour avoir une idée de la variable que nous cherchons à prédire, voici un histogramme du prix des maisons de notre training set"
   ]
  },
  {
   "cell_type": "code",
   "execution_count": 266,
   "metadata": {},
   "outputs": [
    {
     "name": "stdout",
     "output_type": "stream",
     "text": [
      "count      1021.000000\n",
      "mean     180975.716944\n",
      "std       82257.849794\n",
      "min       34900.000000\n",
      "25%      129000.000000\n",
      "50%      161750.000000\n",
      "75%      213500.000000\n",
      "max      755000.000000\n",
      "Name: SalePrice, dtype: float64\n"
     ]
    },
    {
     "data": {
      "image/png": "[encoded data removed]",
      "text/plain": [
       "<Figure size 432x288 with 2 Axes>"
      ]
     },
     "metadata": {
      "needs_background": "light"
     },
     "output_type": "display_data"
    }
   ],
   "source": [
    "print(y_train.describe())\n",
    "ax = y_train.hist(bins=50, alpha=0.5)\n",
    "ax.set_ylabel('Frequency')\n",
    "ax.set_xlabel(\"House Prices\")\n",
    "ax.set_xlim(0)\n",
    "# Ajouter la courbe de densité sur un axe y secondaire\n",
    "y_train.plot.density(ax=ax.twinx(), color='red')\n",
    "plt.show()"
   ]
  },
  {
   "attachments": {},
   "cell_type": "markdown",
   "metadata": {},
   "source": [
    "Nous allons maintenant étudier les variables explicatives et sélectionner celles qui nous semblent pertinentes afin d'obtenir les meilleures prédictions. \n",
    "\n",
    "Commençons par avoir une vue d'ensemble sur ces variables"
   ]
  },
  {
   "cell_type": "code",
   "execution_count": 267,
   "metadata": {},
   "outputs": [
    {
     "name": "stdout",
     "output_type": "stream",
     "text": [
      "<class 'pandas.core.frame.DataFrame'>\n",
      "Int64Index: 1021 entries, 892 to 604\n",
      "Data columns (total 79 columns):\n",
      " #   Column         Non-Null Count  Dtype  \n",
      "---  ------         --------------  -----  \n",
      " 0   MSSubClass     1021 non-null   int64  \n",
      " 1   MSZoning       1021 non-null   object \n",
      " 2   LotFrontage    850 non-null    float64\n",
      " 3   LotArea        1021 non-null   int64  \n",
      " 4   Street         1021 non-null   object \n",
      " 5   Alley          60 non-null     object \n",
      " 6   LotShape       1021 non-null   object \n",
      " 7   LandContour    1021 non-null   object \n",
      " 8   Utilities      1021 non-null   object \n",
      " 9   LotConfig      1021 non-null   object \n",
      " 10  LandSlope      1021 non-null   object \n",
      " 11  Neighborhood   1021 non-null   object \n",
      " 12  Condition1     1021 non-null   object \n",
      " 13  Condition2     1021 non-null   object \n",
      " 14  BldgType       1021 non-null   object \n",
      " 15  HouseStyle     1021 non-null   object \n",
      " 16  OverallQual    1021 non-null   int64  \n",
      " 17  OverallCond    1021 non-null   int64  \n",
      " 18  YearBuilt      1021 non-null   int64  \n",
      " 19  YearRemodAdd   1021 non-null   int64  \n",
      " 20  RoofStyle      1021 non-null   object \n",
      " 21  RoofMatl       1021 non-null   object \n",
      " 22  Exterior1st    1021 non-null   object \n",
      " 23  Exterior2nd    1021 non-null   object \n",
      " 24  MasVnrType     1013 non-null   object \n",
      " 25  MasVnrArea     1013 non-null   float64\n",
      " 26  ExterQual      1021 non-null   object \n",
      " 27  ExterCond      1021 non-null   object \n",
      " 28  Foundation     1021 non-null   object \n",
      " 29  BsmtQual       994 non-null    object \n",
      " 30  BsmtCond       994 non-null    object \n",
      " 31  BsmtExposure   993 non-null    object \n",
      " 32  BsmtFinType1   994 non-null    object \n",
      " 33  BsmtFinSF1     1021 non-null   int64  \n",
      " 34  BsmtFinType2   993 non-null    object \n",
      " 35  BsmtFinSF2     1021 non-null   int64  \n",
      " 36  BsmtUnfSF      1021 non-null   int64  \n",
      " 37  TotalBsmtSF    1021 non-null   int64  \n",
      " 38  Heating        1021 non-null   object \n",
      " 39  HeatingQC      1021 non-null   object \n",
      " 40  CentralAir     1021 non-null   object \n",
      " 41  Electrical     1020 non-null   object \n",
      " 42  1stFlrSF       1021 non-null   int64  \n",
      " 43  2ndFlrSF       1021 non-null   int64  \n",
      " 44  LowQualFinSF   1021 non-null   int64  \n",
      " 45  GrLivArea      1021 non-null   int64  \n",
      " 46  BsmtFullBath   1021 non-null   int64  \n",
      " 47  BsmtHalfBath   1021 non-null   int64  \n",
      " 48  FullBath       1021 non-null   int64  \n",
      " 49  HalfBath       1021 non-null   int64  \n",
      " 50  BedroomAbvGr   1021 non-null   int64  \n",
      " 51  KitchenAbvGr   1021 non-null   int64  \n",
      " 52  KitchenQual    1021 non-null   object \n",
      " 53  TotRmsAbvGrd   1021 non-null   int64  \n",
      " 54  Functional     1021 non-null   object \n",
      " 55  Fireplaces     1021 non-null   int64  \n",
      " 56  FireplaceQu    544 non-null    object \n",
      " 57  GarageType     959 non-null    object \n",
      " 58  GarageYrBlt    959 non-null    float64\n",
      " 59  GarageFinish   959 non-null    object \n",
      " 60  GarageCars     1021 non-null   int64  \n",
      " 61  GarageArea     1021 non-null   int64  \n",
      " 62  GarageQual     959 non-null    object \n",
      " 63  GarageCond     959 non-null    object \n",
      " 64  PavedDrive     1021 non-null   object \n",
      " 65  WoodDeckSF     1021 non-null   int64  \n",
      " 66  OpenPorchSF    1021 non-null   int64  \n",
      " 67  EnclosedPorch  1021 non-null   int64  \n",
      " 68  3SsnPorch      1021 non-null   int64  \n",
      " 69  ScreenPorch    1021 non-null   int64  \n",
      " 70  PoolArea       1021 non-null   int64  \n",
      " 71  PoolQC         4 non-null      object \n",
      " 72  Fence          194 non-null    object \n",
      " 73  MiscFeature    36 non-null     object \n",
      " 74  MiscVal        1021 non-null   int64  \n",
      " 75  MoSold         1021 non-null   int64  \n",
      " 76  YrSold         1021 non-null   int64  \n",
      " 77  SaleType       1021 non-null   object \n",
      " 78  SaleCondition  1021 non-null   object \n",
      "dtypes: float64(3), int64(33), object(43)\n",
      "memory usage: 638.1+ KB\n"
     ]
    }
   ],
   "source": [
    "X_train.info()"
   ]
  },
  {
   "attachments": {},
   "cell_type": "markdown",
   "metadata": {},
   "source": [
    "Vous pouvez obtenir plus d'informations sur chacune des variables explicatives dans le document *data_description.txt*\n",
    "<br>"
   ]
  },
  {
   "attachments": {},
   "cell_type": "markdown",
   "metadata": {},
   "source": [
    "On remarque aisément dans l'output ci-dessus que nous disposons de variables numériques et catégorielles. Dans une précédente version du notebook que vous pouvez retrouver sur GitHub, nous considérions uniquement les variables numériques. Nous allons maintenant aussi considérer les variables catégorielles afin d'améliorer le pouvoir prédictif de nos modèles"
   ]
  },
  {
   "attachments": {},
   "cell_type": "markdown",
   "metadata": {},
   "source": [
    "Pour ce faire, nous allons dans un premier temps retirer les features avec un nombre trop important de valeurs manquantes. En analysant nos données, nous décidons que 10% de valeurs manquantes dans une colonne est un seuil non négligeable et donc que nous retirons ce feature de notre étude (c'est à dire de nos trois sets)."
   ]
  },
  {
   "cell_type": "code",
   "execution_count": 268,
   "metadata": {},
   "outputs": [],
   "source": [
    "# Enlever les features avec plus de 10% de valeurs manquantes\n",
    "missing_values_by_column = X_test.isnull().sum()\n",
    "for column, missing_values in missing_values_by_column.items():\n",
    "    if missing_values != 0:\n",
    "        if missing_values / len(X_test) > 0.1:\n",
    "            X_train.drop(column, axis=1, inplace=True)\n",
    "            X_validation.drop(column, axis=1, inplace=True)\n",
    "            X_test.drop(column, axis=1, inplace=True)"
   ]
  },
  {
   "attachments": {},
   "cell_type": "markdown",
   "metadata": {},
   "source": [
    "Maintenant que nos sets sont cleanés des features avec trop de valeurs manquantes, nous devons remplir les valeurs nulles de nos dataframes afin d'éviter toute erreur. \n",
    "\n",
    "Pour les variables catégorielles, nous décidons de remplacer les valeurs nulles par le mode de chaque feature.\n",
    "Pour les variables numériques, nous décidons de remplacer les valeurs nulles par la médiane de chaque feature."
   ]
  },
  {
   "cell_type": "code",
   "execution_count": 269,
   "metadata": {},
   "outputs": [],
   "source": [
    "categorical_cols = [col for col in X_train.columns if X_train[col].dtype == 'object']\n",
    "numerical_cols = [col for col in X_train.columns if X_train[col].dtype == 'int64' or X_train[col].dtype == 'float']\n",
    "\n",
    "# Remplacer les valeurs manquantes des features catégorielles par le mode\n",
    "for col in categorical_cols:\n",
    "    mode = X_train[col].mode()[0]\n",
    "    X_train[col].fillna(mode, inplace=True)\n",
    "    X_validation[col].fillna(mode, inplace=True)\n",
    "    X_test[col].fillna(mode, inplace=True)\n",
    "\n",
    "# Remplacer les valeurs manquantes des features numériques par la médiane\n",
    "for col in numerical_cols:\n",
    "    median = X_train[col].median()\n",
    "    X_train[col].fillna(median, inplace=True)\n",
    "    X_validation[col].fillna(median, inplace=True)\n",
    "    X_test[col].fillna(median, inplace=True)"
   ]
  },
  {
   "attachments": {},
   "cell_type": "markdown",
   "metadata": {},
   "source": [
    "Enfin, dans un problème de régression, il n'est pas possible d'utiliser comme telles les variables catégorielles. Nous devons donc faire appel à un encodage pour les incorporer à nos modèles.\n",
    "\n",
    "Il existe différents types d'encodage, mais celui que nous retenons ici est l'encodage One Hot. En fait, cela va transformer chacune des catégories de nos features en une nouvelle colonne, qui prendra des valeurs de 0 ou 1 pour chaque observation. Ainsi, nous nous retrouvons avec des variables numériques qu'il est alors possible d'utiliser dans nos modèles.\n",
    "\n",
    "Pour réaliser cet encodage, nous faisons appel à la classe *OneHotEncoder* de **Sickit-Learn**. Pour éviter tout biais, nous entraînons l'encoder sur nos données d'entraînement et l'utilisons sur tel quel sur l'ensemble de nos sets.\n",
    "Dans le cas où de nouvelles catégories seraient alors présentes dans les données validation ou test, nous faisons le choix de ne pas les considérer dans notre encodage pour éviter toute erreur (même si cela peut générer une légère perte d'information). Cela est possible grâce au paramètre *handle_unknown='ignore'*."
   ]
  },
  {
   "cell_type": "code",
   "execution_count": 270,
   "metadata": {},
   "outputs": [],
   "source": [
    "# Création d'un encodeur One-Hot\n",
    "encoder = OneHotEncoder(sparse=False, handle_unknown='ignore')\n",
    "encoder.fit(X_train[categorical_cols])\n",
    "\n",
    "encoded_train_features = pd.DataFrame(encoder.transform(X_train[categorical_cols]), columns=encoder.get_feature_names(categorical_cols), index=X_train.index)\n",
    "encoded_validation_features = pd.DataFrame(encoder.transform(X_validation[categorical_cols]), columns=encoder.get_feature_names(categorical_cols), index=X_validation.index)\n",
    "encoded_test_features = pd.DataFrame(encoder.transform(X_test[categorical_cols]), columns=encoder.get_feature_names(categorical_cols), index=X_test.index)\n",
    "\n",
    "# Ajout des variables catégorielles encodées au dataframe en supprimant les colonnes initiales\n",
    "X_train = pd.concat([X_train.drop(categorical_cols, axis=1), encoded_train_features], axis=1)\n",
    "X_validation = pd.concat([X_validation.drop(categorical_cols, axis=1), encoded_validation_features], axis=1)\n",
    "X_test = pd.concat([X_test.drop(categorical_cols, axis=1), encoded_test_features], axis=1)"
   ]
  },
  {
   "attachments": {},
   "cell_type": "markdown",
   "metadata": {},
   "source": [
    "Ainsi, nous obtenons trois nouveaux sets avec de nombreux features. Par exemple, voilà à quoi ressemble les premières observartions de notre train set."
   ]
  },
  {
   "cell_type": "code",
   "execution_count": 271,
   "metadata": {},
   "outputs": [
    {
     "data": {
      "text/html": [
       "<div>\n",
       "<style scoped>\n",
       "    .dataframe tbody tr th:only-of-type {\n",
       "        vertical-align: middle;\n",
       "    }\n",
       "\n",
       "    .dataframe tbody tr th {\n",
       "        vertical-align: top;\n",
       "    }\n",
       "\n",
       "    .dataframe thead th {\n",
       "        text-align: right;\n",
       "    }\n",
       "</style>\n",
       "<table border=\"1\" class=\"dataframe\">\n",
       "  <thead>\n",
       "    <tr style=\"text-align: right;\">\n",
       "      <th></th>\n",
       "      <th>MSSubClass</th>\n",
       "      <th>LotArea</th>\n",
       "      <th>OverallQual</th>\n",
       "      <th>OverallCond</th>\n",
       "      <th>YearBuilt</th>\n",
       "      <th>YearRemodAdd</th>\n",
       "      <th>MasVnrArea</th>\n",
       "      <th>BsmtFinSF1</th>\n",
       "      <th>BsmtFinSF2</th>\n",
       "      <th>BsmtUnfSF</th>\n",
       "      <th>...</th>\n",
       "      <th>SaleType_ConLw</th>\n",
       "      <th>SaleType_New</th>\n",
       "      <th>SaleType_Oth</th>\n",
       "      <th>SaleType_WD</th>\n",
       "      <th>SaleCondition_Abnorml</th>\n",
       "      <th>SaleCondition_AdjLand</th>\n",
       "      <th>SaleCondition_Alloca</th>\n",
       "      <th>SaleCondition_Family</th>\n",
       "      <th>SaleCondition_Normal</th>\n",
       "      <th>SaleCondition_Partial</th>\n",
       "    </tr>\n",
       "  </thead>\n",
       "  <tbody>\n",
       "    <tr>\n",
       "      <th>892</th>\n",
       "      <td>20</td>\n",
       "      <td>8414</td>\n",
       "      <td>6</td>\n",
       "      <td>8</td>\n",
       "      <td>1963</td>\n",
       "      <td>2003</td>\n",
       "      <td>0.0</td>\n",
       "      <td>663</td>\n",
       "      <td>0</td>\n",
       "      <td>396</td>\n",
       "      <td>...</td>\n",
       "      <td>0.0</td>\n",
       "      <td>0.0</td>\n",
       "      <td>0.0</td>\n",
       "      <td>1.0</td>\n",
       "      <td>0.0</td>\n",
       "      <td>0.0</td>\n",
       "      <td>0.0</td>\n",
       "      <td>0.0</td>\n",
       "      <td>1.0</td>\n",
       "      <td>0.0</td>\n",
       "    </tr>\n",
       "    <tr>\n",
       "      <th>1105</th>\n",
       "      <td>60</td>\n",
       "      <td>12256</td>\n",
       "      <td>8</td>\n",
       "      <td>5</td>\n",
       "      <td>1994</td>\n",
       "      <td>1995</td>\n",
       "      <td>362.0</td>\n",
       "      <td>1032</td>\n",
       "      <td>0</td>\n",
       "      <td>431</td>\n",
       "      <td>...</td>\n",
       "      <td>0.0</td>\n",
       "      <td>0.0</td>\n",
       "      <td>0.0</td>\n",
       "      <td>1.0</td>\n",
       "      <td>0.0</td>\n",
       "      <td>0.0</td>\n",
       "      <td>0.0</td>\n",
       "      <td>0.0</td>\n",
       "      <td>1.0</td>\n",
       "      <td>0.0</td>\n",
       "    </tr>\n",
       "    <tr>\n",
       "      <th>413</th>\n",
       "      <td>30</td>\n",
       "      <td>8960</td>\n",
       "      <td>5</td>\n",
       "      <td>6</td>\n",
       "      <td>1927</td>\n",
       "      <td>1950</td>\n",
       "      <td>0.0</td>\n",
       "      <td>0</td>\n",
       "      <td>0</td>\n",
       "      <td>1008</td>\n",
       "      <td>...</td>\n",
       "      <td>0.0</td>\n",
       "      <td>0.0</td>\n",
       "      <td>0.0</td>\n",
       "      <td>1.0</td>\n",
       "      <td>0.0</td>\n",
       "      <td>0.0</td>\n",
       "      <td>0.0</td>\n",
       "      <td>0.0</td>\n",
       "      <td>1.0</td>\n",
       "      <td>0.0</td>\n",
       "    </tr>\n",
       "    <tr>\n",
       "      <th>522</th>\n",
       "      <td>50</td>\n",
       "      <td>5000</td>\n",
       "      <td>6</td>\n",
       "      <td>7</td>\n",
       "      <td>1947</td>\n",
       "      <td>1950</td>\n",
       "      <td>0.0</td>\n",
       "      <td>399</td>\n",
       "      <td>0</td>\n",
       "      <td>605</td>\n",
       "      <td>...</td>\n",
       "      <td>0.0</td>\n",
       "      <td>0.0</td>\n",
       "      <td>0.0</td>\n",
       "      <td>1.0</td>\n",
       "      <td>0.0</td>\n",
       "      <td>0.0</td>\n",
       "      <td>0.0</td>\n",
       "      <td>0.0</td>\n",
       "      <td>1.0</td>\n",
       "      <td>0.0</td>\n",
       "    </tr>\n",
       "    <tr>\n",
       "      <th>1036</th>\n",
       "      <td>20</td>\n",
       "      <td>12898</td>\n",
       "      <td>9</td>\n",
       "      <td>5</td>\n",
       "      <td>2007</td>\n",
       "      <td>2008</td>\n",
       "      <td>70.0</td>\n",
       "      <td>1022</td>\n",
       "      <td>0</td>\n",
       "      <td>598</td>\n",
       "      <td>...</td>\n",
       "      <td>0.0</td>\n",
       "      <td>0.0</td>\n",
       "      <td>0.0</td>\n",
       "      <td>1.0</td>\n",
       "      <td>0.0</td>\n",
       "      <td>0.0</td>\n",
       "      <td>0.0</td>\n",
       "      <td>0.0</td>\n",
       "      <td>1.0</td>\n",
       "      <td>0.0</td>\n",
       "    </tr>\n",
       "    <tr>\n",
       "      <th>614</th>\n",
       "      <td>180</td>\n",
       "      <td>1491</td>\n",
       "      <td>4</td>\n",
       "      <td>6</td>\n",
       "      <td>1972</td>\n",
       "      <td>1972</td>\n",
       "      <td>0.0</td>\n",
       "      <td>150</td>\n",
       "      <td>480</td>\n",
       "      <td>0</td>\n",
       "      <td>...</td>\n",
       "      <td>0.0</td>\n",
       "      <td>0.0</td>\n",
       "      <td>0.0</td>\n",
       "      <td>1.0</td>\n",
       "      <td>0.0</td>\n",
       "      <td>0.0</td>\n",
       "      <td>0.0</td>\n",
       "      <td>0.0</td>\n",
       "      <td>1.0</td>\n",
       "      <td>0.0</td>\n",
       "    </tr>\n",
       "    <tr>\n",
       "      <th>218</th>\n",
       "      <td>50</td>\n",
       "      <td>15660</td>\n",
       "      <td>7</td>\n",
       "      <td>9</td>\n",
       "      <td>1939</td>\n",
       "      <td>2006</td>\n",
       "      <td>312.0</td>\n",
       "      <td>341</td>\n",
       "      <td>0</td>\n",
       "      <td>457</td>\n",
       "      <td>...</td>\n",
       "      <td>0.0</td>\n",
       "      <td>0.0</td>\n",
       "      <td>0.0</td>\n",
       "      <td>1.0</td>\n",
       "      <td>0.0</td>\n",
       "      <td>0.0</td>\n",
       "      <td>0.0</td>\n",
       "      <td>0.0</td>\n",
       "      <td>1.0</td>\n",
       "      <td>0.0</td>\n",
       "    </tr>\n",
       "    <tr>\n",
       "      <th>1160</th>\n",
       "      <td>160</td>\n",
       "      <td>2280</td>\n",
       "      <td>6</td>\n",
       "      <td>5</td>\n",
       "      <td>1978</td>\n",
       "      <td>1978</td>\n",
       "      <td>0.0</td>\n",
       "      <td>311</td>\n",
       "      <td>0</td>\n",
       "      <td>544</td>\n",
       "      <td>...</td>\n",
       "      <td>0.0</td>\n",
       "      <td>0.0</td>\n",
       "      <td>0.0</td>\n",
       "      <td>1.0</td>\n",
       "      <td>0.0</td>\n",
       "      <td>0.0</td>\n",
       "      <td>0.0</td>\n",
       "      <td>0.0</td>\n",
       "      <td>1.0</td>\n",
       "      <td>0.0</td>\n",
       "    </tr>\n",
       "    <tr>\n",
       "      <th>649</th>\n",
       "      <td>180</td>\n",
       "      <td>1936</td>\n",
       "      <td>4</td>\n",
       "      <td>6</td>\n",
       "      <td>1970</td>\n",
       "      <td>1970</td>\n",
       "      <td>0.0</td>\n",
       "      <td>131</td>\n",
       "      <td>499</td>\n",
       "      <td>0</td>\n",
       "      <td>...</td>\n",
       "      <td>0.0</td>\n",
       "      <td>0.0</td>\n",
       "      <td>0.0</td>\n",
       "      <td>1.0</td>\n",
       "      <td>0.0</td>\n",
       "      <td>0.0</td>\n",
       "      <td>0.0</td>\n",
       "      <td>0.0</td>\n",
       "      <td>1.0</td>\n",
       "      <td>0.0</td>\n",
       "    </tr>\n",
       "    <tr>\n",
       "      <th>887</th>\n",
       "      <td>50</td>\n",
       "      <td>16466</td>\n",
       "      <td>5</td>\n",
       "      <td>7</td>\n",
       "      <td>1955</td>\n",
       "      <td>1955</td>\n",
       "      <td>0.0</td>\n",
       "      <td>0</td>\n",
       "      <td>0</td>\n",
       "      <td>816</td>\n",
       "      <td>...</td>\n",
       "      <td>0.0</td>\n",
       "      <td>0.0</td>\n",
       "      <td>0.0</td>\n",
       "      <td>1.0</td>\n",
       "      <td>0.0</td>\n",
       "      <td>0.0</td>\n",
       "      <td>0.0</td>\n",
       "      <td>0.0</td>\n",
       "      <td>1.0</td>\n",
       "      <td>0.0</td>\n",
       "    </tr>\n",
       "  </tbody>\n",
       "</table>\n",
       "<p>10 rows × 265 columns</p>\n",
       "</div>"
      ],
      "text/plain": [
       "      MSSubClass  LotArea  OverallQual  OverallCond  YearBuilt  YearRemodAdd  \\\n",
       "892           20     8414            6            8       1963          2003   \n",
       "1105          60    12256            8            5       1994          1995   \n",
       "413           30     8960            5            6       1927          1950   \n",
       "522           50     5000            6            7       1947          1950   \n",
       "1036          20    12898            9            5       2007          2008   \n",
       "614          180     1491            4            6       1972          1972   \n",
       "218           50    15660            7            9       1939          2006   \n",
       "1160         160     2280            6            5       1978          1978   \n",
       "649          180     1936            4            6       1970          1970   \n",
       "887           50    16466            5            7       1955          1955   \n",
       "\n",
       "      MasVnrArea  BsmtFinSF1  BsmtFinSF2  BsmtUnfSF  ...  SaleType_ConLw  \\\n",
       "892          0.0         663           0        396  ...             0.0   \n",
       "1105       362.0        1032           0        431  ...             0.0   \n",
       "413          0.0           0           0       1008  ...             0.0   \n",
       "522          0.0         399           0        605  ...             0.0   \n",
       "1036        70.0        1022           0        598  ...             0.0   \n",
       "614          0.0         150         480          0  ...             0.0   \n",
       "218        312.0         341           0        457  ...             0.0   \n",
       "1160         0.0         311           0        544  ...             0.0   \n",
       "649          0.0         131         499          0  ...             0.0   \n",
       "887          0.0           0           0        816  ...             0.0   \n",
       "\n",
       "      SaleType_New  SaleType_Oth  SaleType_WD  SaleCondition_Abnorml  \\\n",
       "892            0.0           0.0          1.0                    0.0   \n",
       "1105           0.0           0.0          1.0                    0.0   \n",
       "413            0.0           0.0          1.0                    0.0   \n",
       "522            0.0           0.0          1.0                    0.0   \n",
       "1036           0.0           0.0          1.0                    0.0   \n",
       "614            0.0           0.0          1.0                    0.0   \n",
       "218            0.0           0.0          1.0                    0.0   \n",
       "1160           0.0           0.0          1.0                    0.0   \n",
       "649            0.0           0.0          1.0                    0.0   \n",
       "887            0.0           0.0          1.0                    0.0   \n",
       "\n",
       "      SaleCondition_AdjLand  SaleCondition_Alloca  SaleCondition_Family  \\\n",
       "892                     0.0                   0.0                   0.0   \n",
       "1105                    0.0                   0.0                   0.0   \n",
       "413                     0.0                   0.0                   0.0   \n",
       "522                     0.0                   0.0                   0.0   \n",
       "1036                    0.0                   0.0                   0.0   \n",
       "614                     0.0                   0.0                   0.0   \n",
       "218                     0.0                   0.0                   0.0   \n",
       "1160                    0.0                   0.0                   0.0   \n",
       "649                     0.0                   0.0                   0.0   \n",
       "887                     0.0                   0.0                   0.0   \n",
       "\n",
       "      SaleCondition_Normal  SaleCondition_Partial  \n",
       "892                    1.0                    0.0  \n",
       "1105                   1.0                    0.0  \n",
       "413                    1.0                    0.0  \n",
       "522                    1.0                    0.0  \n",
       "1036                   1.0                    0.0  \n",
       "614                    1.0                    0.0  \n",
       "218                    1.0                    0.0  \n",
       "1160                   1.0                    0.0  \n",
       "649                    1.0                    0.0  \n",
       "887                    1.0                    0.0  \n",
       "\n",
       "[10 rows x 265 columns]"
      ]
     },
     "execution_count": 271,
     "metadata": {},
     "output_type": "execute_result"
    }
   ],
   "source": [
    "X_train.head(10)"
   ]
  },
  {
   "attachments": {},
   "cell_type": "markdown",
   "metadata": {},
   "source": [
    "Etudions alors ces variables un peu plus en détail. Pour cela, commençons par une vue globale de nos variables numériques."
   ]
  },
  {
   "cell_type": "code",
   "execution_count": 272,
   "metadata": {},
   "outputs": [
    {
     "data": {
      "image/png": "[encoded data removed]",
      "text/plain": [
       "<Figure size 1440x1440 with 36 Axes>"
      ]
     },
     "metadata": {
      "needs_background": "light"
     },
     "output_type": "display_data"
    }
   ],
   "source": [
    "X_train[numerical_cols].hist(figsize=(20, 20), bins=50, xlabelsize=8, ylabelsize=8)\n",
    "plt.show()"
   ]
  },
  {
   "attachments": {},
   "cell_type": "markdown",
   "metadata": {},
   "source": [
    "Statistiques descriptives !!!"
   ]
  },
  {
   "attachments": {},
   "cell_type": "markdown",
   "metadata": {},
   "source": [
    "Maintenant que nous avons sélectionné nos variables explicatives, il nous semble pertinent de standardiser chacune de ces variables afin d'éviter le poids disproportionné de certaines variables aux valeurs extrêmes. En réalité, cette normalisation n'est utile que pour les variables numériques mais grâce à l'encodage One Hot des variables catégorielles avec des 0 et 1, cela ne pose pas de problème lors de la normalisation."
   ]
  },
  {
   "cell_type": "code",
   "execution_count": 273,
   "metadata": {},
   "outputs": [],
   "source": [
    "min_train = X_train.min(axis=0)\n",
    "max_train = X_train.max(axis=0)\n",
    "\n",
    "X_train_norm = (X_train - min_train) / (max_train - min_train)\n",
    "X_validation_norm = (X_validation - min_train) / (max_train - min_train)\n",
    "X_test_norm = (X_test - min_train) / (max_train - min_train)"
   ]
  },
  {
   "attachments": {},
   "cell_type": "markdown",
   "metadata": {},
   "source": [
    "Nos données sont alors prêtes à être utilisées dans différents modèles."
   ]
  },
  {
   "attachments": {},
   "cell_type": "markdown",
   "metadata": {},
   "source": [
    "### Modèle de référence : Régression linéaire"
   ]
  },
  {
   "attachments": {},
   "cell_type": "markdown",
   "metadata": {},
   "source": [
    "Dans le cadre de notre problème, nous utiliserons une régression linéaire par Moindres Carrés Ordinaires comme benchmark afin de comparer nos modèles de Machine Learning par la suite. Pour cela, nous utilisons le package *LinearRegression* de **Sickit-Learn**"
   ]
  },
  {
   "cell_type": "code",
   "execution_count": 222,
   "metadata": {},
   "outputs": [
    {
     "data": {
      "text/plain": [
       "LinearRegression()"
      ]
     },
     "execution_count": 222,
     "metadata": {},
     "output_type": "execute_result"
    }
   ],
   "source": [
    "linear_reg = LinearRegression()\n",
    "linear_reg.fit(X_train_norm, y_train)"
   ]
  },
  {
   "attachments": {},
   "cell_type": "markdown",
   "metadata": {},
   "source": [
    "Comme expliqué dans l'introduction de ce notebook, notre métrique d'évalutation est la RMSE sur le logarithme des valeurs prédites et le logarithme des valeurs observés"
   ]
  },
  {
   "cell_type": "code",
   "execution_count": 223,
   "metadata": {},
   "outputs": [],
   "source": [
    "def compute_score(y_pred, y_obs):\n",
    "    return np.sqrt(np.mean((np.log(y_pred) - np.log(y_obs)) ** 2))"
   ]
  },
  {
   "cell_type": "code",
   "execution_count": 224,
   "metadata": {},
   "outputs": [
    {
     "name": "stdout",
     "output_type": "stream",
     "text": [
      "La métrique calculée sur notre échantillon train avec la régression linéaire est : 0.11238\n",
      "La métrique calculée sur notre échantillon validation avec la régression linéaire est : 1.49687\n"
     ]
    }
   ],
   "source": [
    "y_train_pred = linear_reg.predict(X_train_norm)\n",
    "rmse_train = compute_score(y_train_pred, y_train)\n",
    "print(f\"La métrique calculée sur notre échantillon train avec la régression linéaire est : {round(rmse_train, 5)}\")\n",
    "y_validation_pred = linear_reg.predict(X_validation_norm)\n",
    "rmse_validation = compute_score(y_validation_pred, y_validation)\n",
    "print(f\"La métrique calculée sur notre échantillon validation avec la régression linéaire est : {round(rmse_validation, 5)}\")"
   ]
  },
  {
   "attachments": {},
   "cell_type": "markdown",
   "metadata": {},
   "source": [
    "Pour calculer cette métique sur notre échantillon test, nous devons exporter un fichier csv dans le format demandé par le challenge Kaggle"
   ]
  },
  {
   "cell_type": "code",
   "execution_count": 225,
   "metadata": {},
   "outputs": [],
   "source": [
    "def export_predictions(X, y_pred, file_name):\n",
    "    df_output = pd.DataFrame({\"Id\": X.index, \"SalePrice\": y_pred})\n",
    "    df_output.to_csv(file_name, index=False)"
   ]
  },
  {
   "cell_type": "code",
   "execution_count": 228,
   "metadata": {},
   "outputs": [
    {
     "name": "stdout",
     "output_type": "stream",
     "text": [
      "La métrique calculée sur notre échantillon test avec la régression linéaire est : 2.05030\n"
     ]
    }
   ],
   "source": [
    "y_test_pred = linear_reg.predict(X_test_norm)\n",
    "export_predictions(X_test_norm, y_test_pred, \"predictions_ref.csv\")\n",
    "print(f\"La métrique calculée sur notre échantillon test avec la régression linéaire est : 2.05030\")"
   ]
  },
  {
   "attachments": {},
   "cell_type": "markdown",
   "metadata": {},
   "source": [
    "### Modèle non supervisé : K-means"
   ]
  },
  {
   "attachments": {},
   "cell_type": "markdown",
   "metadata": {},
   "source": [
    "Dans le cadre d'un problème de régression, il n'est pas directement possible d'utiliser un modèle non supervisé pour prévoir la sortie. En effet, un modèle non supervisé se base sur des features sans connaître les labels, et donc ne peut que clusteriser les données pour regrouper les observations similaires.\n",
    "\n",
    "Dans notre étude, nous allons donc utiliser l'algorithme K-means afin de clusturiser nos données, et ainsi ajouter une variable explicative à notre régression linéaire effectuée précédemment. Ainsi, nous verrons si regrouper les maisons similaires à un impact positif sur la capacité de notre modèle à prédire le prix des maisons"
   ]
  },
  {
   "attachments": {},
   "cell_type": "markdown",
   "metadata": {},
   "source": [
    "<br>\n",
    "\n",
    "Nous voulons tout d'abord déterminer le nombre de clusters optimal afin de classifier nos données d'entraînement. Pour cela, nous allons regarder d'une part l'inertie et d'autre part la silhouette en faisant varier le nombre de clusters. Ainsi, nous pourrons obtenir une idée du nombre de clusters le plus pertinent pour classifier nos données."
   ]
  },
  {
   "cell_type": "code",
   "execution_count": 229,
   "metadata": {},
   "outputs": [],
   "source": [
    "kmeans_per_k = [KMeans(n_clusters=k, init=\"random\", n_init=10, algorithm=\"full\", random_state=42).fit(X_train_norm) for k in range(1, 10)]\n",
    "inertias = [model.inertia_ for model in kmeans_per_k]"
   ]
  },
  {
   "cell_type": "code",
   "execution_count": 230,
   "metadata": {},
   "outputs": [
    {
     "data": {
      "image/png": "[encoded data removed]",
      "text/plain": [
       "<Figure size 720x288 with 1 Axes>"
      ]
     },
     "metadata": {
      "needs_background": "light"
     },
     "output_type": "display_data"
    }
   ],
   "source": [
    "plt.figure(figsize=(10, 4))\n",
    "plt.plot(range(1, 10), inertias, \"bo-\")\n",
    "plt.xlabel(\"$k$\", fontsize=14)\n",
    "plt.ylabel(\"Inertia\", fontsize=14)\n",
    "plt.show()"
   ]
  },
  {
   "cell_type": "code",
   "execution_count": 231,
   "metadata": {},
   "outputs": [],
   "source": [
    "silhouette_scores = [silhouette_score(X_train_norm, model.labels_)\n",
    "                     for model in kmeans_per_k[1:]]"
   ]
  },
  {
   "cell_type": "code",
   "execution_count": 232,
   "metadata": {},
   "outputs": [
    {
     "data": {
      "image/png": "[encoded data removed]",
      "text/plain": [
       "<Figure size 576x288 with 1 Axes>"
      ]
     },
     "metadata": {
      "needs_background": "light"
     },
     "output_type": "display_data"
    }
   ],
   "source": [
    "plt.figure(figsize=(8, 4))\n",
    "plt.plot(range(2, 10), silhouette_scores, \"bo-\")\n",
    "plt.xlabel(\"$k$\", fontsize=14)\n",
    "plt.ylabel(\"Silhouette score\", fontsize=14)\n",
    "plt.show()"
   ]
  },
  {
   "attachments": {},
   "cell_type": "markdown",
   "metadata": {},
   "source": [
    "L'analyse des deux métriques précédentes nous donne une valeur optimale potentielle pour le nombre de clusters : 2. \n",
    "\n",
    "Nous allons donc appliquer l'algorithme K-means avec ce nombre de clusters, ajouter ce feature à nos données et comparer ce nouveau modèle avec celui de référence."
   ]
  },
  {
   "attachments": {},
   "cell_type": "markdown",
   "metadata": {},
   "source": [
    "<br>\n",
    "\n",
    "Pour ce faire, nous initialisons notre algorithme K-means et clusterisons nos données. L'information du cluster de chaque maison est ajoutée dans chacun des dataframes, en appliquant une standardisation min max (le min étant égal à 0 et le max à k-1).\n",
    "\n",
    "Nous pouvons alors appliquer de nouveau une régression linéaire sur nos données d'entraînement et comparer le score de nos prédictions"
   ]
  },
  {
   "cell_type": "code",
   "execution_count": 242,
   "metadata": {},
   "outputs": [
    {
     "name": "stdout",
     "output_type": "stream",
     "text": [
      "La métrique calculée sur notre échantillon train avec 2 clusters est : 0.1122\n",
      "La métrique calculée sur notre échantillon validation avec 2 clusters est : 2.15015\n",
      "\n"
     ]
    }
   ],
   "source": [
    "for k_optimal in [2]:\n",
    "    kmeans = KMeans(n_clusters=k_optimal, init=\"random\", n_init=10,\n",
    "                                algorithm=\"full\", random_state=42)\n",
    "    kmeans.fit(X_train_norm)\n",
    "\n",
    "    labels_train = kmeans.predict(X_train_norm)\n",
    "    labels_validation = kmeans.predict(X_validation_norm)\n",
    "    labels_test = kmeans.predict(X_test_norm)\n",
    "\n",
    "    X_train_norm[\"Label\"] = labels_train.astype(float) / (k_optimal - 1)\n",
    "    X_validation_norm[\"Label\"] = labels_validation.astype(float) / (k_optimal - 1)\n",
    "    X_test_norm[\"Label\"] = labels_test.astype(float) / (k_optimal - 1)\n",
    "\n",
    "    linear_reg = LinearRegression()\n",
    "    linear_reg.fit(X_train_norm, y_train)\n",
    "\n",
    "    y_train_pred = linear_reg.predict(X_train_norm)\n",
    "    rmse_train = compute_score(y_train_pred, y_train)\n",
    "    print(f\"La métrique calculée sur notre échantillon train avec {k_optimal} clusters est : {round(rmse_train, 5)}\")\n",
    "    y_validation_pred = linear_reg.predict(X_validation_norm)\n",
    "    rmse_validation = compute_score(y_validation_pred, y_validation)\n",
    "    print(f\"La métrique calculée sur notre échantillon validation avec {k_optimal} clusters est : {round(rmse_validation, 5)}\\n\")\n",
    "\n",
    "    y_test_pred = linear_reg.predict(X_test_norm)\n",
    "    export_predictions(X_test_norm, y_test_pred, f\"predictions_kmeans_{k_optimal}.csv\")\n",
    "\n",
    "    X_train_norm.drop(\"Label\", axis=1, inplace=True)\n",
    "    X_validation_norm.drop(\"Label\", axis=1, inplace=True)\n",
    "    X_test_norm.drop(\"Label\", axis=1, inplace=True)"
   ]
  },
  {
   "attachments": {},
   "cell_type": "markdown",
   "metadata": {},
   "source": [
    "En soumettant nos prédictions pour les données test sur Kaggle, nous obtenons les résultats suivants :"
   ]
  },
  {
   "cell_type": "code",
   "execution_count": 237,
   "metadata": {},
   "outputs": [
    {
     "name": "stdout",
     "output_type": "stream",
     "text": [
      "La métrique calculée sur notre échantillon test avec 2 clusters est : 2.10523\n",
      "\n"
     ]
    }
   ],
   "source": [
    "print(f\"La métrique calculée sur notre échantillon test avec 2 clusters est : 2.10523\\n\")"
   ]
  },
  {
   "attachments": {},
   "cell_type": "markdown",
   "metadata": {},
   "source": [
    "Comme on pouvait s'en douter, l'utilisation d'un modèle non supervisé dans le cadre de notre problème de régression n'apporte pas de pouvoir prédictif. De plus, il paraît logique qu'un nouveau feature classifiant les données dans 2 catégories n'apporte pas de pouvoir prédictif en considérant déjà l'ensemble des features utilisés. Mais même en testant avec des nombres de clusters plus élevés, les résultats ne sont pas satisfaisants.\n",
    "\n",
    "Nous allons donc maintenant pouvoir nous intéresser à l'implémentation d'un modèle supervisé qui devrait nous donner de meilleures prédictions."
   ]
  },
  {
   "attachments": {},
   "cell_type": "markdown",
   "metadata": {},
   "source": [
    "### Modèle supervisé : Random Forest"
   ]
  },
  {
   "attachments": {},
   "cell_type": "markdown",
   "metadata": {},
   "source": [
    "Dans le cadre de notre problème de prédiction du prix des maisons, nous allons utiliser comme modèle supervisé le Random Forest. Cet algortihme va nous permettre, contrairement au modèle non supervisé, de prédire directement le prix des maisons. "
   ]
  },
  {
   "attachments": {},
   "cell_type": "markdown",
   "metadata": {},
   "source": [
    "Pour obtenir les meilleurs résultats à l'aide de notre Random Forest, nous devons tout d'abord déterminer les hyperparamètres optimaux pour notre modèle, que nous pourrons affiner par la suite si nécessaire. \n",
    "\n",
    "Pour cela, nous utilisons *GridSearchCV* de **Sickit-Learn** qui permet de sélectionner les hyperparamètres optimaux par validation croisée. "
   ]
  },
  {
   "cell_type": "code",
   "execution_count": 192,
   "metadata": {},
   "outputs": [
    {
     "name": "stdout",
     "output_type": "stream",
     "text": [
      "Meilleurs hyperparamètres :  {'max_depth': 20, 'min_samples_leaf': 1, 'min_samples_split': 2}\n",
      "Score moyen de validation croisée :  -1167332140.450155\n"
     ]
    }
   ],
   "source": [
    "# Espace de recherche des hyperparamètres\n",
    "param_grid = {\n",
    "    'max_depth': [None, 10, 20],\n",
    "    'min_samples_split': [2, 5, 10],\n",
    "    'min_samples_leaf': [1, 2, 4]\n",
    "}\n",
    "\n",
    "random_forest_reg = RandomForestRegressor(n_estimators=100, random_state=42)\n",
    "\n",
    "# Recherche par validation croisée des meilleurs hyperparamètres\n",
    "grid_search = GridSearchCV(estimator=random_forest_reg, param_grid=param_grid, cv=5, scoring='neg_mean_squared_error')\n",
    "grid_search.fit(X_train_norm, y_train)\n",
    "\n",
    "print(\"Meilleurs hyperparamètres : \", grid_search.best_params_)\n",
    "print(\"Score moyen de validation croisée : \", grid_search.best_score_)"
   ]
  },
  {
   "attachments": {},
   "cell_type": "markdown",
   "metadata": {},
   "source": [
    "Maintenant que nous avons déterminer des valeurs d'yperparamètres pertinentes, nous pouvons appliquer l'algorithme de Random Forest à nos différents sets de données et comparer les résultats avec nos précédents modèles"
   ]
  },
  {
   "cell_type": "code",
   "execution_count": 193,
   "metadata": {},
   "outputs": [
    {
     "data": {
      "text/plain": [
       "RandomForestRegressor(max_depth=20, min_samples_split=10, n_estimators=500,\n",
       "                      random_state=42)"
      ]
     },
     "execution_count": 193,
     "metadata": {},
     "output_type": "execute_result"
    }
   ],
   "source": [
    "random_forest_reg = RandomForestRegressor(n_estimators=500, max_depth=20, min_samples_leaf=1, min_samples_split=10, random_state=42)\n",
    "random_forest_reg.fit(X_train_norm, y_train)"
   ]
  },
  {
   "cell_type": "code",
   "execution_count": 194,
   "metadata": {},
   "outputs": [
    {
     "name": "stdout",
     "output_type": "stream",
     "text": [
      "La métrique calculée sur notre échantillon train avec l'algorithme Random Forest est : 0.08438\n",
      "La métrique calculée sur notre échantillon validation avec l'algorithme Random Forest est : 0.12814\n"
     ]
    }
   ],
   "source": [
    "y_train_pred = random_forest_reg.predict(X_train_norm)\n",
    "rmse_train = compute_score(y_train_pred, y_train)\n",
    "print(f\"La métrique calculée sur notre échantillon train avec l'algorithme Random Forest est : {round(rmse_train, 5)}\")\n",
    "y_validation_pred = random_forest_reg.predict(X_validation_norm)\n",
    "rmse_validation = compute_score(y_validation_pred, y_validation)\n",
    "print(f\"La métrique calculée sur notre échantillon validation avec l'algorithme Random Forest est : {round(rmse_validation, 5)}\")"
   ]
  },
  {
   "cell_type": "code",
   "execution_count": 204,
   "metadata": {},
   "outputs": [
    {
     "name": "stdout",
     "output_type": "stream",
     "text": [
      "La métrique calculée sur notre échantillon test avec l'algorithme Random Forest est : 0.15020\n"
     ]
    }
   ],
   "source": [
    "y_test_pred = random_forest_reg.predict(X_test_norm)\n",
    "export_predictions(X_test_norm, y_test_pred, \"predictions_rf.csv\")\n",
    "print(f\"La métrique calculée sur notre échantillon test avec l'algorithme Random Forest est : 0.15020\")"
   ]
  },
  {
   "attachments": {},
   "cell_type": "markdown",
   "metadata": {},
   "source": [
    "On remarque une réelle surperformance de l'algorithme Random Forest comparé à notre modèle de référence que ce soit sur le validation ou le test set."
   ]
  },
  {
   "attachments": {},
   "cell_type": "markdown",
   "metadata": {},
   "source": [
    "### Modèle supervisé : Gradient Boosting"
   ]
  },
  {
   "attachments": {},
   "cell_type": "markdown",
   "metadata": {},
   "source": [
    "Afin de comparer les résultats obtenus avec le Random Forest, nous implémentons un autre modèle supervisé : le Gradient Boosting.\n",
    "\n",
    "Le fonctionnement d'un modèle de boosting est un apprentissage pas à pas, en corrigeant à chaque nouveau modèle les erreurs des précédents."
   ]
  },
  {
   "attachments": {},
   "cell_type": "markdown",
   "metadata": {},
   "source": [
    "Comme pour les modèles précédents, il nous faut déterminer les hyperparamètres optimaux de cet algorithme. Pour cela nous allons boucler sur différentes valeurs de learning rate et de profondeur maximale, et pourrons déterminer ces paramètres ainsi que le nombre d'arbres optimal à l'aide de la méthode *staged_predict()*."
   ]
  },
  {
   "cell_type": "code",
   "execution_count": 196,
   "metadata": {},
   "outputs": [],
   "source": [
    "# Espace de recherche du learning rate\n",
    "learning_rates = [1, 0.5, 0.1, 0.05, 0.01]\n",
    "depths = [None, 5, 10, 15, 20]\n",
    "\n",
    "grad_boost_reg = GradientBoostingRegressor(n_estimators=200, random_state=42)\n",
    "\n",
    "errors = {}\n",
    "for learning_rate in learning_rates:\n",
    "    for depth in depths:\n",
    "        grad_boost_reg.set_params(learning_rate=learning_rate, max_depth=depth)\n",
    "        grad_boost_reg.fit(X_train_norm, y_train)\n",
    "\n",
    "        errors[(learning_rate, depth)] = [compute_score(y_validation, y_pred)\n",
    "                for y_pred in grad_boost_reg.staged_predict(X_validation_norm)] "
   ]
  },
  {
   "cell_type": "code",
   "execution_count": 197,
   "metadata": {},
   "outputs": [],
   "source": [
    "min_error_index = min(errors, key=lambda k: min(errors[k]))\n",
    "errors = errors[min_error_index]\n",
    "\n",
    "min_error = np.min(errors)\n",
    "tree_opt = np.argmin(errors) + 1\n",
    "learning_rate = min_error_index[0]\n",
    "max_depth = min_error_index[1]"
   ]
  },
  {
   "cell_type": "code",
   "execution_count": 199,
   "metadata": {},
   "outputs": [
    {
     "data": {
      "image/png": "[encoded data removed]",
      "text/plain": [
       "<Figure size 576x288 with 1 Axes>"
      ]
     },
     "metadata": {
      "needs_background": "light"
     },
     "output_type": "display_data"
    }
   ],
   "source": [
    "plt.figure(figsize=(8, 4))\n",
    "\n",
    "plt.plot(errors[0:200], \"b.-\")\n",
    "plt.plot([tree_opt, tree_opt], [0, min_error], \"k--\")\n",
    "plt.plot([0,200], [min_error, min_error], \"k--\")\n",
    "plt.plot(tree_opt, min_error, \"ko\")\n",
    "plt.text(tree_opt, min_error*1.2, \"Minimum\", ha=\"center\", fontsize=14)\n",
    "plt.xlabel(\"Number of trees\")\n",
    "plt.ylabel(\"Error\", fontsize=16)\n",
    "plt.title(\"Validation error\", fontsize=14)\n",
    "\n",
    "plt.show()"
   ]
  },
  {
   "attachments": {},
   "cell_type": "markdown",
   "metadata": {},
   "source": [
    "Dans le cas d'un Gradient Boosting, il est nécessaire de déterminer le nombre d'arbres optimal minimisant notre métrique. En effet, en prenant un nombre d'estimateurs trop grand, on risque de faire de l'overfitting et donc des prédictions moins bonnes sur notre test set.\n",
    "\n",
    "Maintenant que nous avons déterminé les paramètres optimaux de notre Gradient Boosting, nous allons l'utiliser pour faire des prédictions sur nos différents sets et comparer nos résultats aux précédents modèles. En faisant légèrement varier les hyperparamètres, nous remarquons finalement que la profondeur maximale de 4 donne de meilleurs prédictions sur les train et validation sets mais de moins bons sur le test set, nous allons donc garder notre profondeur maximale à 5."
   ]
  },
  {
   "cell_type": "code",
   "execution_count": 200,
   "metadata": {},
   "outputs": [
    {
     "data": {
      "text/plain": [
       "GradientBoostingRegressor(max_depth=5, n_estimators=194, random_state=42)"
      ]
     },
     "execution_count": 200,
     "metadata": {},
     "output_type": "execute_result"
    }
   ],
   "source": [
    "grad_boost_reg = GradientBoostingRegressor(n_estimators=tree_opt, learning_rate=learning_rate, max_depth=max_depth, random_state=42)\n",
    "grad_boost_reg.fit(X_train_norm, y_train)"
   ]
  },
  {
   "cell_type": "code",
   "execution_count": 201,
   "metadata": {},
   "outputs": [
    {
     "name": "stdout",
     "output_type": "stream",
     "text": [
      "La métrique calculée sur notre échantillon train avec l'algorithme Gradient Boosting est : 0.02431\n",
      "La métrique calculée sur notre échantillon validation avec l'algorithme Gradient Boosting est : 0.11294\n"
     ]
    }
   ],
   "source": [
    "y_train_pred = grad_boost_reg.predict(X_train_norm)\n",
    "rmse_train = compute_score(y_train_pred, y_train)\n",
    "print(f\"La métrique calculée sur notre échantillon train avec l'algorithme Gradient Boosting est : {round(rmse_train, 5)}\")\n",
    "y_validation_pred = grad_boost_reg.predict(X_validation_norm)\n",
    "rmse_validation = compute_score(y_validation_pred, y_validation)\n",
    "print(f\"La métrique calculée sur notre échantillon validation avec l'algorithme Gradient Boosting est : {round(rmse_validation, 5)}\")"
   ]
  },
  {
   "cell_type": "code",
   "execution_count": 203,
   "metadata": {},
   "outputs": [
    {
     "name": "stdout",
     "output_type": "stream",
     "text": [
      "La métrique calculée sur notre échantillon test avec l'algorithme Gradient Boosting est : 0.13598\n"
     ]
    }
   ],
   "source": [
    "y_test_pred = grad_boost_reg.predict(X_test_norm)\n",
    "export_predictions(X_test_norm, y_test_pred, \"predictions_g_boost.csv\")\n",
    "print(f\"La métrique calculée sur notre échantillon test avec l'algorithme Gradient Boosting est : 0.13598\")"
   ]
  },
  {
   "attachments": {},
   "cell_type": "markdown",
   "metadata": {},
   "source": [
    "Les résultats obtenus sont encore meilleurs qu'avec notre algorithme Random Forest sur l'ensemble de nos sets."
   ]
  }
 ],
 "metadata": {
  "kernelspec": {
   "display_name": "base",
   "language": "python",
   "name": "python3"
  },
  "language_info": {
   "codemirror_mode": {
    "name": "ipython",
    "version": 3
   },
   "file_extension": ".py",
   "mimetype": "text/x-python",
   "name": "python",
   "nbconvert_exporter": "python",
   "pygments_lexer": "ipython3",
   "version": "3.7.4"
  },
  "orig_nbformat": 4
 },
 "nbformat": 4,
 "nbformat_minor": 2
}
